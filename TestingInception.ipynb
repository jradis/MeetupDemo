{
 "cells": [
  {
   "cell_type": "code",
   "execution_count": 23,
   "metadata": {
    "collapsed": true
   },
   "outputs": [],
   "source": [
    "import keras\n",
    "from keras.applications.inception_v3 import *\n",
    "from keras.preprocessing import image\n",
    "import numpy as np\n",
    "import pandas as pd"
   ]
  },
  {
   "cell_type": "code",
   "execution_count": 13,
   "metadata": {},
   "outputs": [],
   "source": [
    "img = image.load_img('./jared.jpg', target_size=(299, 299))\n",
    "x = image.img_to_array(img)\n",
    "x = np.expand_dims(x, axis=0)\n",
    "x = preprocess_input(x)"
   ]
  },
  {
   "cell_type": "code",
   "execution_count": 4,
   "metadata": {},
   "outputs": [
    {
     "name": "stdout",
     "output_type": "stream",
     "text": [
      "Downloading data from https://github.com/fchollet/deep-learning-models/releases/download/v0.5/inception_v3_weights_tf_dim_ordering_tf_kernels.h5\n"
     ]
    }
   ],
   "source": [
    "model = InceptionV3()"
   ]
  },
  {
   "cell_type": "code",
   "execution_count": 47,
   "metadata": {},
   "outputs": [],
   "source": [
    "A = model.predict(x)"
   ]
  },
  {
   "cell_type": "code",
   "execution_count": 48,
   "metadata": {},
   "outputs": [
    {
     "name": "stdout",
     "output_type": "stream",
     "text": [
      "[[(u'n03447721', u'gong', 0.77220035), (u'n04192698', u'shield', 0.027086444), (u'n03249569', u'drum', 0.021284636), (u'n02841315', u'binoculars', 0.021083811), (u'n03424325', u'gasmask', 0.015720785)]]\n"
     ]
    }
   ],
   "source": [
    "print decode_predictions(A)"
   ]
  },
  {
   "cell_type": "code",
   "execution_count": 52,
   "metadata": {},
   "outputs": [],
   "source": [
    "df = pd.read_json('https://s3.amazonaws.com/deep-learning-models/image-models/imagenet_class_index.json', orient='index')"
   ]
  },
  {
   "cell_type": "code",
   "execution_count": 53,
   "metadata": {},
   "outputs": [
    {
     "data": {
      "text/html": [
       "<div>\n",
       "<style>\n",
       "    .dataframe thead tr:only-child th {\n",
       "        text-align: right;\n",
       "    }\n",
       "\n",
       "    .dataframe thead th {\n",
       "        text-align: left;\n",
       "    }\n",
       "\n",
       "    .dataframe tbody tr th {\n",
       "        vertical-align: top;\n",
       "    }\n",
       "</style>\n",
       "<table border=\"1\" class=\"dataframe\">\n",
       "  <thead>\n",
       "    <tr style=\"text-align: right;\">\n",
       "      <th></th>\n",
       "      <th>0</th>\n",
       "      <th>1</th>\n",
       "    </tr>\n",
       "  </thead>\n",
       "  <tbody>\n",
       "    <tr>\n",
       "      <th>0</th>\n",
       "      <td>n01440764</td>\n",
       "      <td>tench</td>\n",
       "    </tr>\n",
       "    <tr>\n",
       "      <th>1</th>\n",
       "      <td>n01443537</td>\n",
       "      <td>goldfish</td>\n",
       "    </tr>\n",
       "    <tr>\n",
       "      <th>10</th>\n",
       "      <td>n01530575</td>\n",
       "      <td>brambling</td>\n",
       "    </tr>\n",
       "    <tr>\n",
       "      <th>100</th>\n",
       "      <td>n01860187</td>\n",
       "      <td>black_swan</td>\n",
       "    </tr>\n",
       "    <tr>\n",
       "      <th>101</th>\n",
       "      <td>n01871265</td>\n",
       "      <td>tusker</td>\n",
       "    </tr>\n",
       "  </tbody>\n",
       "</table>\n",
       "</div>"
      ],
      "text/plain": [
       "             0           1\n",
       "0    n01440764       tench\n",
       "1    n01443537    goldfish\n",
       "10   n01530575   brambling\n",
       "100  n01860187  black_swan\n",
       "101  n01871265      tusker"
      ]
     },
     "execution_count": 53,
     "metadata": {},
     "output_type": "execute_result"
    }
   ],
   "source": [
    "df.head()"
   ]
  },
  {
   "cell_type": "code",
   "execution_count": 54,
   "metadata": {},
   "outputs": [
    {
     "data": {
      "text/html": [
       "<div>\n",
       "<style>\n",
       "    .dataframe thead tr:only-child th {\n",
       "        text-align: right;\n",
       "    }\n",
       "\n",
       "    .dataframe thead th {\n",
       "        text-align: left;\n",
       "    }\n",
       "\n",
       "    .dataframe tbody tr th {\n",
       "        vertical-align: top;\n",
       "    }\n",
       "</style>\n",
       "<table border=\"1\" class=\"dataframe\">\n",
       "  <thead>\n",
       "    <tr style=\"text-align: right;\">\n",
       "      <th></th>\n",
       "      <th>0</th>\n",
       "      <th>1</th>\n",
       "    </tr>\n",
       "  </thead>\n",
       "  <tbody>\n",
       "    <tr>\n",
       "      <th>577</th>\n",
       "      <td>n03447721</td>\n",
       "      <td>gong</td>\n",
       "    </tr>\n",
       "  </tbody>\n",
       "</table>\n",
       "</div>"
      ],
      "text/plain": [
       "             0     1\n",
       "577  n03447721  gong"
      ]
     },
     "execution_count": 54,
     "metadata": {},
     "output_type": "execute_result"
    }
   ],
   "source": [
    "df[df[1] == 'gong']"
   ]
  },
  {
   "cell_type": "code",
   "execution_count": 49,
   "metadata": {},
   "outputs": [
    {
     "data": {
      "text/plain": [
       "0    n03355925\n",
       "1     flagpole\n",
       "Name: 557, dtype: object"
      ]
     },
     "execution_count": 49,
     "metadata": {},
     "output_type": "execute_result"
    }
   ],
   "source": [
    "df[557]"
   ]
  },
  {
   "cell_type": "code",
   "execution_count": 36,
   "metadata": {},
   "outputs": [],
   "source": [
    "labels = df[1].values"
   ]
  },
  {
   "cell_type": "code",
   "execution_count": 37,
   "metadata": {},
   "outputs": [
    {
     "data": {
      "text/plain": [
       "array([u'tench', u'goldfish', u'great_white_shark', u'tiger_shark',\n",
       "       u'hammerhead', u'electric_ray', u'stingray', u'cock', u'hen',\n",
       "       u'ostrich', u'brambling', u'goldfinch', u'house_finch', u'junco',\n",
       "       u'indigo_bunting', u'robin', u'bulbul', u'jay', u'magpie',\n",
       "       u'chickadee', u'water_ouzel', u'kite', u'bald_eagle', u'vulture',\n",
       "       u'great_grey_owl', u'European_fire_salamander', u'common_newt',\n",
       "       u'eft', u'spotted_salamander', u'axolotl', u'bullfrog',\n",
       "       u'tree_frog', u'tailed_frog', u'loggerhead', u'leatherback_turtle',\n",
       "       u'mud_turtle', u'terrapin', u'box_turtle', u'banded_gecko',\n",
       "       u'common_iguana', u'American_chameleon', u'whiptail', u'agama',\n",
       "       u'frilled_lizard', u'alligator_lizard', u'Gila_monster',\n",
       "       u'green_lizard', u'African_chameleon', u'Komodo_dragon',\n",
       "       u'African_crocodile', u'American_alligator', u'triceratops',\n",
       "       u'thunder_snake', u'ringneck_snake', u'hognose_snake',\n",
       "       u'green_snake', u'king_snake', u'garter_snake', u'water_snake',\n",
       "       u'vine_snake', u'night_snake', u'boa_constrictor', u'rock_python',\n",
       "       u'Indian_cobra', u'green_mamba', u'sea_snake', u'horned_viper',\n",
       "       u'diamondback', u'sidewinder', u'trilobite', u'harvestman',\n",
       "       u'scorpion', u'black_and_gold_garden_spider', u'barn_spider',\n",
       "       u'garden_spider', u'black_widow', u'tarantula', u'wolf_spider',\n",
       "       u'tick', u'centipede', u'black_grouse', u'ptarmigan',\n",
       "       u'ruffed_grouse', u'prairie_chicken', u'peacock', u'quail',\n",
       "       u'partridge', u'African_grey', u'macaw',\n",
       "       u'sulphur-crested_cockatoo', u'lorikeet', u'coucal', u'bee_eater',\n",
       "       u'hornbill', u'hummingbird', u'jacamar', u'toucan', u'drake',\n",
       "       u'red-breasted_merganser', u'goose', u'black_swan', u'tusker',\n",
       "       u'echidna', u'platypus', u'wallaby', u'koala', u'wombat',\n",
       "       u'jellyfish', u'sea_anemone', u'brain_coral', u'flatworm',\n",
       "       u'nematode', u'conch', u'snail', u'slug', u'sea_slug', u'chiton',\n",
       "       u'chambered_nautilus', u'Dungeness_crab', u'rock_crab',\n",
       "       u'fiddler_crab', u'king_crab', u'American_lobster',\n",
       "       u'spiny_lobster', u'crayfish', u'hermit_crab', u'isopod',\n",
       "       u'white_stork', u'black_stork', u'spoonbill', u'flamingo',\n",
       "       u'little_blue_heron', u'American_egret', u'bittern', u'crane',\n",
       "       u'limpkin', u'European_gallinule', u'American_coot', u'bustard',\n",
       "       u'ruddy_turnstone', u'red-backed_sandpiper', u'redshank',\n",
       "       u'dowitcher', u'oystercatcher', u'pelican', u'king_penguin',\n",
       "       u'albatross', u'grey_whale', u'killer_whale', u'dugong',\n",
       "       u'sea_lion', u'Chihuahua', u'Japanese_spaniel', u'Maltese_dog',\n",
       "       u'Pekinese', u'Shih-Tzu', u'Blenheim_spaniel', u'papillon',\n",
       "       u'toy_terrier', u'Rhodesian_ridgeback', u'Afghan_hound', u'basset',\n",
       "       u'beagle', u'bloodhound', u'bluetick', u'black-and-tan_coonhound',\n",
       "       u'Walker_hound', u'English_foxhound', u'redbone', u'borzoi',\n",
       "       u'Irish_wolfhound', u'Italian_greyhound', u'whippet',\n",
       "       u'Ibizan_hound', u'Norwegian_elkhound', u'otterhound', u'Saluki',\n",
       "       u'Scottish_deerhound', u'Weimaraner', u'Staffordshire_bullterrier',\n",
       "       u'American_Staffordshire_terrier', u'Bedlington_terrier',\n",
       "       u'Border_terrier', u'Kerry_blue_terrier', u'Irish_terrier',\n",
       "       u'Norfolk_terrier', u'Norwich_terrier', u'Yorkshire_terrier',\n",
       "       u'wire-haired_fox_terrier', u'Lakeland_terrier',\n",
       "       u'Sealyham_terrier', u'Airedale', u'cairn', u'Australian_terrier',\n",
       "       u'Dandie_Dinmont', u'Boston_bull', u'miniature_schnauzer',\n",
       "       u'giant_schnauzer', u'standard_schnauzer', u'Scotch_terrier',\n",
       "       u'Tibetan_terrier', u'silky_terrier',\n",
       "       u'soft-coated_wheaten_terrier', u'West_Highland_white_terrier',\n",
       "       u'Lhasa', u'flat-coated_retriever', u'curly-coated_retriever',\n",
       "       u'golden_retriever', u'Labrador_retriever',\n",
       "       u'Chesapeake_Bay_retriever', u'German_short-haired_pointer',\n",
       "       u'vizsla', u'English_setter', u'Irish_setter', u'Gordon_setter',\n",
       "       u'Brittany_spaniel', u'clumber', u'English_springer',\n",
       "       u'Welsh_springer_spaniel', u'cocker_spaniel', u'Sussex_spaniel',\n",
       "       u'Irish_water_spaniel', u'kuvasz', u'schipperke', u'groenendael',\n",
       "       u'malinois', u'briard', u'kelpie', u'komondor',\n",
       "       u'Old_English_sheepdog', u'Shetland_sheepdog', u'collie',\n",
       "       u'Border_collie', u'Bouvier_des_Flandres', u'Rottweiler',\n",
       "       u'German_shepherd', u'Doberman', u'miniature_pinscher',\n",
       "       u'Greater_Swiss_Mountain_dog', u'Bernese_mountain_dog',\n",
       "       u'Appenzeller', u'EntleBucher', u'boxer', u'bull_mastiff',\n",
       "       u'Tibetan_mastiff', u'French_bulldog', u'Great_Dane',\n",
       "       u'Saint_Bernard', u'Eskimo_dog', u'malamute', u'Siberian_husky',\n",
       "       u'dalmatian', u'affenpinscher', u'basenji', u'pug', u'Leonberg',\n",
       "       u'Newfoundland', u'Great_Pyrenees', u'Samoyed', u'Pomeranian',\n",
       "       u'chow', u'keeshond', u'Brabancon_griffon', u'Pembroke',\n",
       "       u'Cardigan', u'toy_poodle', u'miniature_poodle', u'standard_poodle',\n",
       "       u'Mexican_hairless', u'timber_wolf', u'white_wolf', u'red_wolf',\n",
       "       u'coyote', u'dingo', u'dhole', u'African_hunting_dog', u'hyena',\n",
       "       u'red_fox', u'kit_fox', u'Arctic_fox', u'grey_fox', u'tabby',\n",
       "       u'tiger_cat', u'Persian_cat', u'Siamese_cat', u'Egyptian_cat',\n",
       "       u'cougar', u'lynx', u'leopard', u'snow_leopard', u'jaguar', u'lion',\n",
       "       u'tiger', u'cheetah', u'brown_bear', u'American_black_bear',\n",
       "       u'ice_bear', u'sloth_bear', u'mongoose', u'meerkat',\n",
       "       u'tiger_beetle', u'ladybug', u'ground_beetle',\n",
       "       u'long-horned_beetle', u'leaf_beetle', u'dung_beetle',\n",
       "       u'rhinoceros_beetle', u'weevil', u'fly', u'bee', u'ant',\n",
       "       u'grasshopper', u'cricket', u'walking_stick', u'cockroach',\n",
       "       u'mantis', u'cicada', u'leafhopper', u'lacewing', u'dragonfly',\n",
       "       u'damselfly', u'admiral', u'ringlet', u'monarch',\n",
       "       u'cabbage_butterfly', u'sulphur_butterfly', u'lycaenid',\n",
       "       u'starfish', u'sea_urchin', u'sea_cucumber', u'wood_rabbit',\n",
       "       u'hare', u'Angora', u'hamster', u'porcupine', u'fox_squirrel',\n",
       "       u'marmot', u'beaver', u'guinea_pig', u'sorrel', u'zebra', u'hog',\n",
       "       u'wild_boar', u'warthog', u'hippopotamus', u'ox', u'water_buffalo',\n",
       "       u'bison', u'ram', u'bighorn', u'ibex', u'hartebeest', u'impala',\n",
       "       u'gazelle', u'Arabian_camel', u'llama', u'weasel', u'mink',\n",
       "       u'polecat', u'black-footed_ferret', u'otter', u'skunk', u'badger',\n",
       "       u'armadillo', u'three-toed_sloth', u'orangutan', u'gorilla',\n",
       "       u'chimpanzee', u'gibbon', u'siamang', u'guenon', u'patas',\n",
       "       u'baboon', u'macaque', u'langur', u'colobus', u'proboscis_monkey',\n",
       "       u'marmoset', u'capuchin', u'howler_monkey', u'titi',\n",
       "       u'spider_monkey', u'squirrel_monkey', u'Madagascar_cat', u'indri',\n",
       "       u'Indian_elephant', u'African_elephant', u'lesser_panda',\n",
       "       u'giant_panda', u'barracouta', u'eel', u'coho', u'rock_beauty',\n",
       "       u'anemone_fish', u'sturgeon', u'gar', u'lionfish', u'puffer',\n",
       "       u'abacus', u'abaya', u'academic_gown', u'accordion',\n",
       "       u'acoustic_guitar', u'aircraft_carrier', u'airliner', u'airship',\n",
       "       u'altar', u'ambulance', u'amphibian', u'analog_clock', u'apiary',\n",
       "       u'apron', u'ashcan', u'assault_rifle', u'backpack', u'bakery',\n",
       "       u'balance_beam', u'balloon', u'ballpoint', u'Band_Aid', u'banjo',\n",
       "       u'bannister', u'barbell', u'barber_chair', u'barbershop', u'barn',\n",
       "       u'barometer', u'barrel', u'barrow', u'baseball', u'basketball',\n",
       "       u'bassinet', u'bassoon', u'bathing_cap', u'bath_towel', u'bathtub',\n",
       "       u'beach_wagon', u'beacon', u'beaker', u'bearskin', u'beer_bottle',\n",
       "       u'beer_glass', u'bell_cote', u'bib', u'bicycle-built-for-two',\n",
       "       u'bikini', u'binder', u'binoculars', u'birdhouse', u'boathouse',\n",
       "       u'bobsled', u'bolo_tie', u'bonnet', u'bookcase', u'bookshop',\n",
       "       u'bottlecap', u'bow', u'bow_tie', u'brass', u'brassiere',\n",
       "       u'breakwater', u'breastplate', u'broom', u'bucket', u'buckle',\n",
       "       u'bulletproof_vest', u'bullet_train', u'butcher_shop', u'cab',\n",
       "       u'caldron', u'candle', u'cannon', u'canoe', u'can_opener',\n",
       "       u'cardigan', u'car_mirror', u'carousel', u\"carpenter's_kit\",\n",
       "       u'carton', u'car_wheel', u'cash_machine', u'cassette',\n",
       "       u'cassette_player', u'castle', u'catamaran', u'CD_player', u'cello',\n",
       "       u'cellular_telephone', u'chain', u'chainlink_fence', u'chain_mail',\n",
       "       u'chain_saw', u'chest', u'chiffonier', u'chime', u'china_cabinet',\n",
       "       u'Christmas_stocking', u'church', u'cinema', u'cleaver',\n",
       "       u'cliff_dwelling', u'cloak', u'clog', u'cocktail_shaker',\n",
       "       u'coffee_mug', u'coffeepot', u'coil', u'combination_lock',\n",
       "       u'computer_keyboard', u'confectionery', u'container_ship',\n",
       "       u'convertible', u'corkscrew', u'cornet', u'cowboy_boot',\n",
       "       u'cowboy_hat', u'cradle', u'crane', u'crash_helmet', u'crate',\n",
       "       u'crib', u'Crock_Pot', u'croquet_ball', u'crutch', u'cuirass',\n",
       "       u'dam', u'desk', u'desktop_computer', u'dial_telephone', u'diaper',\n",
       "       u'digital_clock', u'digital_watch', u'dining_table', u'dishrag',\n",
       "       u'dishwasher', u'disk_brake', u'dock', u'dogsled', u'dome',\n",
       "       u'doormat', u'drilling_platform', u'drum', u'drumstick',\n",
       "       u'dumbbell', u'Dutch_oven', u'electric_fan', u'electric_guitar',\n",
       "       u'electric_locomotive', u'entertainment_center', u'envelope',\n",
       "       u'espresso_maker', u'face_powder', u'feather_boa', u'file',\n",
       "       u'fireboat', u'fire_engine', u'fire_screen', u'flagpole', u'flute',\n",
       "       u'folding_chair', u'football_helmet', u'forklift', u'fountain',\n",
       "       u'fountain_pen', u'four-poster', u'freight_car', u'French_horn',\n",
       "       u'frying_pan', u'fur_coat', u'garbage_truck', u'gasmask',\n",
       "       u'gas_pump', u'goblet', u'go-kart', u'golf_ball', u'golfcart',\n",
       "       u'gondola', u'gong', u'gown', u'grand_piano', u'greenhouse',\n",
       "       u'grille', u'grocery_store', u'guillotine', u'hair_slide',\n",
       "       u'hair_spray', u'half_track', u'hammer', u'hamper', u'hand_blower',\n",
       "       u'hand-held_computer', u'handkerchief', u'hard_disc', u'harmonica',\n",
       "       u'harp', u'harvester', u'hatchet', u'holster', u'home_theater',\n",
       "       u'honeycomb', u'hook', u'hoopskirt', u'horizontal_bar',\n",
       "       u'horse_cart', u'hourglass', u'iPod', u'iron', u\"jack-o'-lantern\",\n",
       "       u'jean', u'jeep', u'jersey', u'jigsaw_puzzle', u'jinrikisha',\n",
       "       u'joystick', u'kimono', u'knee_pad', u'knot', u'lab_coat', u'ladle',\n",
       "       u'lampshade', u'laptop', u'lawn_mower', u'lens_cap',\n",
       "       u'letter_opener', u'library', u'lifeboat', u'lighter', u'limousine',\n",
       "       u'liner', u'lipstick', u'Loafer', u'lotion', u'loudspeaker',\n",
       "       u'loupe', u'lumbermill', u'magnetic_compass', u'mailbag',\n",
       "       u'mailbox', u'maillot', u'maillot', u'manhole_cover', u'maraca',\n",
       "       u'marimba', u'mask', u'matchstick', u'maypole', u'maze',\n",
       "       u'measuring_cup', u'medicine_chest', u'megalith', u'microphone',\n",
       "       u'microwave', u'military_uniform', u'milk_can', u'minibus',\n",
       "       u'miniskirt', u'minivan', u'missile', u'mitten', u'mixing_bowl',\n",
       "       u'mobile_home', u'Model_T', u'modem', u'monastery', u'monitor',\n",
       "       u'moped', u'mortar', u'mortarboard', u'mosque', u'mosquito_net',\n",
       "       u'motor_scooter', u'mountain_bike', u'mountain_tent', u'mouse',\n",
       "       u'mousetrap', u'moving_van', u'muzzle', u'nail', u'neck_brace',\n",
       "       u'necklace', u'nipple', u'notebook', u'obelisk', u'oboe',\n",
       "       u'ocarina', u'odometer', u'oil_filter', u'organ', u'oscilloscope',\n",
       "       u'overskirt', u'oxcart', u'oxygen_mask', u'packet', u'paddle',\n",
       "       u'paddlewheel', u'padlock', u'paintbrush', u'pajama', u'palace',\n",
       "       u'panpipe', u'paper_towel', u'parachute', u'parallel_bars',\n",
       "       u'park_bench', u'parking_meter', u'passenger_car', u'patio',\n",
       "       u'pay-phone', u'pedestal', u'pencil_box', u'pencil_sharpener',\n",
       "       u'perfume', u'Petri_dish', u'photocopier', u'pick', u'pickelhaube',\n",
       "       u'picket_fence', u'pickup', u'pier', u'piggy_bank', u'pill_bottle',\n",
       "       u'pillow', u'ping-pong_ball', u'pinwheel', u'pirate', u'pitcher',\n",
       "       u'plane', u'planetarium', u'plastic_bag', u'plate_rack', u'plow',\n",
       "       u'plunger', u'Polaroid_camera', u'pole', u'police_van', u'poncho',\n",
       "       u'pool_table', u'pop_bottle', u'pot', u\"potter's_wheel\",\n",
       "       u'power_drill', u'prayer_rug', u'printer', u'prison', u'projectile',\n",
       "       u'projector', u'puck', u'punching_bag', u'purse', u'quill',\n",
       "       u'quilt', u'racer', u'racket', u'radiator', u'radio',\n",
       "       u'radio_telescope', u'rain_barrel', u'recreational_vehicle',\n",
       "       u'reel', u'reflex_camera', u'refrigerator', u'remote_control',\n",
       "       u'restaurant', u'revolver', u'rifle', u'rocking_chair',\n",
       "       u'rotisserie', u'rubber_eraser', u'rugby_ball', u'rule',\n",
       "       u'running_shoe', u'safe', u'safety_pin', u'saltshaker', u'sandal',\n",
       "       u'sarong', u'sax', u'scabbard', u'scale', u'school_bus',\n",
       "       u'schooner', u'scoreboard', u'screen', u'screw', u'screwdriver',\n",
       "       u'seat_belt', u'sewing_machine', u'shield', u'shoe_shop', u'shoji',\n",
       "       u'shopping_basket', u'shopping_cart', u'shovel', u'shower_cap',\n",
       "       u'shower_curtain', u'ski', u'ski_mask', u'sleeping_bag',\n",
       "       u'slide_rule', u'sliding_door', u'slot', u'snorkel', u'snowmobile',\n",
       "       u'snowplow', u'soap_dispenser', u'soccer_ball', u'sock',\n",
       "       u'solar_dish', u'sombrero', u'soup_bowl', u'space_bar',\n",
       "       u'space_heater', u'space_shuttle', u'spatula', u'speedboat',\n",
       "       u'spider_web', u'spindle', u'sports_car', u'spotlight', u'stage',\n",
       "       u'steam_locomotive', u'steel_arch_bridge', u'steel_drum',\n",
       "       u'stethoscope', u'stole', u'stone_wall', u'stopwatch', u'stove',\n",
       "       u'strainer', u'streetcar', u'stretcher', u'studio_couch', u'stupa',\n",
       "       u'submarine', u'suit', u'sundial', u'sunglass', u'sunglasses',\n",
       "       u'sunscreen', u'suspension_bridge', u'swab', u'sweatshirt',\n",
       "       u'swimming_trunks', u'swing', u'switch', u'syringe', u'table_lamp',\n",
       "       u'tank', u'tape_player', u'teapot', u'teddy', u'television',\n",
       "       u'tennis_ball', u'thatch', u'theater_curtain', u'thimble',\n",
       "       u'thresher', u'throne', u'tile_roof', u'toaster', u'tobacco_shop',\n",
       "       u'toilet_seat', u'torch', u'totem_pole', u'tow_truck', u'toyshop',\n",
       "       u'tractor', u'trailer_truck', u'tray', u'trench_coat', u'tricycle',\n",
       "       u'trimaran', u'tripod', u'triumphal_arch', u'trolleybus',\n",
       "       u'trombone', u'tub', u'turnstile', u'typewriter_keyboard',\n",
       "       u'umbrella', u'unicycle', u'upright', u'vacuum', u'vase', u'vault',\n",
       "       u'velvet', u'vending_machine', u'vestment', u'viaduct', u'violin',\n",
       "       u'volleyball', u'waffle_iron', u'wall_clock', u'wallet',\n",
       "       u'wardrobe', u'warplane', u'washbasin', u'washer', u'water_bottle',\n",
       "       u'water_jug', u'water_tower', u'whiskey_jug', u'whistle', u'wig',\n",
       "       u'window_screen', u'window_shade', u'Windsor_tie', u'wine_bottle',\n",
       "       u'wing', u'wok', u'wooden_spoon', u'wool', u'worm_fence', u'wreck',\n",
       "       u'yawl', u'yurt', u'web_site', u'comic_book', u'crossword_puzzle',\n",
       "       u'street_sign', u'traffic_light', u'book_jacket', u'menu', u'plate',\n",
       "       u'guacamole', u'consomme', u'hot_pot', u'trifle', u'ice_cream',\n",
       "       u'ice_lolly', u'French_loaf', u'bagel', u'pretzel', u'cheeseburger',\n",
       "       u'hotdog', u'mashed_potato', u'head_cabbage', u'broccoli',\n",
       "       u'cauliflower', u'zucchini', u'spaghetti_squash', u'acorn_squash',\n",
       "       u'butternut_squash', u'cucumber', u'artichoke', u'bell_pepper',\n",
       "       u'cardoon', u'mushroom', u'Granny_Smith', u'strawberry', u'orange',\n",
       "       u'lemon', u'fig', u'pineapple', u'banana', u'jackfruit',\n",
       "       u'custard_apple', u'pomegranate', u'hay', u'carbonara',\n",
       "       u'chocolate_sauce', u'dough', u'meat_loaf', u'pizza', u'potpie',\n",
       "       u'burrito', u'red_wine', u'espresso', u'cup', u'eggnog', u'alp',\n",
       "       u'bubble', u'cliff', u'coral_reef', u'geyser', u'lakeside',\n",
       "       u'promontory', u'sandbar', u'seashore', u'valley', u'volcano',\n",
       "       u'ballplayer', u'groom', u'scuba_diver', u'rapeseed', u'daisy',\n",
       "       u\"yellow_lady's_slipper\", u'corn', u'acorn', u'hip', u'buckeye',\n",
       "       u'coral_fungus', u'agaric', u'gyromitra', u'stinkhorn',\n",
       "       u'earthstar', u'hen-of-the-woods', u'bolete', u'ear',\n",
       "       u'toilet_tissue'], dtype=object)"
      ]
     },
     "execution_count": 37,
     "metadata": {},
     "output_type": "execute_result"
    }
   ],
   "source": [
    "labels"
   ]
  },
  {
   "cell_type": "code",
   "execution_count": 55,
   "metadata": {},
   "outputs": [
    {
     "data": {
      "text/plain": [
       "u'gong'"
      ]
     },
     "execution_count": 55,
     "metadata": {},
     "output_type": "execute_result"
    }
   ],
   "source": [
    "labels[577]"
   ]
  },
  {
   "cell_type": "code",
   "execution_count": 56,
   "metadata": {
    "collapsed": true
   },
   "outputs": [],
   "source": [
    "f = open('imagenet_labels.txt', 'w')\n",
    "for l in labels:\n",
    "  f.write(\"%s\\n\" % l)"
   ]
  }
 ],
 "metadata": {
  "kernelspec": {
   "display_name": "Python 2",
   "language": "python",
   "name": "python2"
  },
  "language_info": {
   "codemirror_mode": {
    "name": "ipython",
    "version": 2
   },
   "file_extension": ".py",
   "mimetype": "text/x-python",
   "name": "python",
   "nbconvert_exporter": "python",
   "pygments_lexer": "ipython2",
   "version": "2.7.13"
  }
 },
 "nbformat": 4,
 "nbformat_minor": 2
}
